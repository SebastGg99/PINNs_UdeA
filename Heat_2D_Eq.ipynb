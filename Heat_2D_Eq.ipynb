{
 "cells": [
  {
   "cell_type": "markdown",
   "id": "3e41d713",
   "metadata": {},
   "source": [
    "# **Resolución de la ecuación del calor bidimensional aplicada a una barra de largo L y ancho L**"
   ]
  },
  {
   "cell_type": "markdown",
   "id": "500d083f",
   "metadata": {},
   "source": [
    "## **Importación de librerías y preparación de entorno**"
   ]
  },
  {
   "cell_type": "code",
   "execution_count": null,
   "id": "15aa178e",
   "metadata": {
    "vscode": {
     "languageId": "plaintext"
    }
   },
   "outputs": [],
   "source": [
    "# %env DDE_BACKEND=tensorflow.compat.v1\n",
    "%env DDE_BACKEND = tensorflow"
   ]
  },
  {
   "cell_type": "code",
   "execution_count": null,
   "id": "b87c871e",
   "metadata": {
    "vscode": {
     "languageId": "plaintext"
    }
   },
   "outputs": [],
   "source": [
    "import numpy as np\n",
    "import deepxde as dde\n",
    "from deepxde.backend import tf\n",
    "from modulePINN import Geometry, IC_BC, loadData, PINN, Ploter, Makegrid"
   ]
  },
  {
   "cell_type": "markdown",
   "id": "cb967976",
   "metadata": {},
   "source": [
    "## **Definición de parámetros geométricos del problema**"
   ]
  },
  {
   "cell_type": "code",
   "execution_count": null,
   "id": "3db51110",
   "metadata": {
    "vscode": {
     "languageId": "plaintext"
    }
   },
   "outputs": [],
   "source": [
    "params_placa = [0, 1, [0, 0], [1, 1]]\n",
    "placa = Geometry(\"placa\")\n",
    "geom_placa, timedomain_placa, geomtime_placa = placa.geometry_domain(params_placa)"
   ]
  },
  {
   "cell_type": "code",
   "execution_count": null,
   "id": "9df6da08",
   "metadata": {
    "vscode": {
     "languageId": "plaintext"
    }
   },
   "outputs": [],
   "source": [
    "icbc = IC_BC(geomtime_placa)\n",
    "ic_placa, bc_placa = icbc.problem_conditions(0.2, f = lambda x: 2*np.sin(1 * np.pi * x[:, 0:1] / 1))"
   ]
  },
  {
   "cell_type": "markdown",
   "id": "0364e139",
   "metadata": {},
   "source": [
    "## **Datos sintéticos y entrenamiento**"
   ]
  },
  {
   "cell_type": "code",
   "execution_count": null,
   "id": "f97e1519",
   "metadata": {
    "vscode": {
     "languageId": "plaintext"
    }
   },
   "outputs": [],
   "source": [
    "def pde2d(x, u):\n",
    "\n",
    "\n",
    "  a = 0.4\n",
    "\n",
    "  du_t = dde.grad.jacobian(u, x, i=0, j=1)\n",
    "  du_xx = dde.grad.hessian(u, x, i=0, j=0)\n",
    "  du_yy = dde.grad.hessian(u, x, i=1, j=1)\n",
    "\n",
    "  return du_t - a * (du_xx + du_yy)"
   ]
  },
  {
   "cell_type": "code",
   "execution_count": null,
   "id": "43958657",
   "metadata": {
    "vscode": {
     "languageId": "plaintext"
    }
   },
   "outputs": [],
   "source": [
    "data_placa = loadData(pde2d, geomtime_placa, ic_placa, bc_placa).get_data(2050, 1500, 200, 250)"
   ]
  },
  {
   "cell_type": "code",
   "execution_count": null,
   "id": "5cd12309",
   "metadata": {
    "vscode": {
     "languageId": "plaintext"
    }
   },
   "outputs": [],
   "source": [
    "plots = Ploter((8,6)) # Construimos el objeto graficador para la barra\n",
    "plots.collocation(data_placa) # Graficamos los puntos de colocación (train)"
   ]
  },
  {
   "cell_type": "markdown",
   "id": "614f20b4",
   "metadata": {},
   "source": [
    "### **Entrenamiento**"
   ]
  },
  {
   "cell_type": "code",
   "execution_count": null,
   "id": "df4a9971",
   "metadata": {
    "vscode": {
     "languageId": "plaintext"
    }
   },
   "outputs": [],
   "source": [
    "pinn_placa = PINN(n_input=3, n_hidden=30, n_output=1, activation=\"tanh\", mmm = \"Glorot normal\")\n",
    "model1, losshistory1, train_state1 = pinn_placa.train_model(data_placa)"
   ]
  },
  {
   "cell_type": "markdown",
   "id": "ae55846e",
   "metadata": {},
   "source": [
    "## **Visualización de resultados**"
   ]
  },
  {
   "cell_type": "code",
   "execution_count": null,
   "id": "d145d4d2",
   "metadata": {
    "vscode": {
     "languageId": "plaintext"
    }
   },
   "outputs": [],
   "source": [
    "plots.train_plot(losshistory1, train_state1)"
   ]
  },
  {
   "cell_type": "code",
   "execution_count": null,
   "id": "c3ebe67b",
   "metadata": {
    "vscode": {
     "languageId": "plaintext"
    }
   },
   "outputs": [],
   "source": [
    "n=100\n",
    "k = 0\n",
    "grid = Makegrid(mode=\"3d\")\n",
    "grid_terms_placa = grid.grid_3D(n, k, params_placa, model1)"
   ]
  },
  {
   "cell_type": "code",
   "execution_count": null,
   "id": "49b366b7",
   "metadata": {
    "vscode": {
     "languageId": "plaintext"
    }
   },
   "outputs": [],
   "source": [
    "plots.surface_plot(grid_terms_placa, mode=\"placa\")"
   ]
  },
  {
   "cell_type": "code",
   "execution_count": null,
   "id": "6b968d59",
   "metadata": {
    "vscode": {
     "languageId": "plaintext"
    }
   },
   "outputs": [],
   "source": [
    "plots.heatmap_plot(grid_terms_placa, mode=\"placa\")"
   ]
  },
  {
   "cell_type": "markdown",
   "id": "b970799b",
   "metadata": {},
   "source": [
    "## **Animación**"
   ]
  },
  {
   "cell_type": "code",
   "execution_count": null,
   "id": "58d136e3",
   "metadata": {
    "vscode": {
     "languageId": "plaintext"
    }
   },
   "outputs": [],
   "source": [
    "import numpy as np\n",
    "import matplotlib.pyplot as plt\n",
    "import matplotlib.animation as animation\n",
    "\n",
    "# --- 1. Parámetros del dominio y malla de evaluación ---\n",
    "Lx = 1.0       # corresponde al Rectangle([0,0],[1,1])\n",
    "Ly = 1.0\n",
    "T_end = 1.0    # dominio temporal [0, 1]\n",
    "nx, ny, nt = 100, 100, 100  # resolución espacial y temporal\n",
    "\n",
    "x_vals = np.linspace(0, Lx, nx)\n",
    "y_vals = np.linspace(0, Ly, ny)\n",
    "t_list = np.linspace(0, T_end, nt)\n",
    "\n",
    "# Crear malla (x, y, t)\n",
    "X, Y, T = np.meshgrid(x_vals, y_vals, t_list, indexing='ij')  # forma (nx, ny, nt)\n",
    "XT = np.vstack([X.ravel(), Y.ravel(), T.ravel()]).T         # array shape (nx*ny*nt, 3)\n",
    "\n",
    "# --- 2. Predicción con el modelo DeepXDE ---\n",
    "u_pred = model1.predict(XT)[:, 0]  # vector (nx*ny*nt,)\n",
    "U = u_pred.reshape((nx, ny, nt))  # tensores organizados\n",
    "U = np.transpose(U, (2, 0, 1))    # ahora U[k], k=0,…,nt−1\n",
    "\n",
    "# --- 3. Establecer figura e imagen inicial para animación ---\n",
    "fig, ax = plt.subplots(figsize=(6, 5))\n",
    "vmin, vmax = U.min(), U.max()\n",
    "\n",
    "im = ax.imshow(\n",
    "    U[0],\n",
    "    origin=\"lower\",\n",
    "    cmap=\"jet\",\n",
    "    vmin=0,\n",
    "    vmax=1,\n",
    "    animated=True\n",
    ")\n",
    "cbar = fig.colorbar(im, ax=ax, label=r\"$u(x,y,t)$\")\n",
    "title = ax.set_title(f\"t = {t_list[0]:.3f}\")\n",
    "\n",
    "ax.set_xlabel(\"x\")\n",
    "ax.set_ylabel(\"y\")\n",
    "\n",
    "# --- 4. Funciones para init y animación ---\n",
    "def init():\n",
    "    im.set_data(U[0])\n",
    "    title.set_text(f\"t = {t_list[0]:.3f}\")\n",
    "    return im, title\n",
    "\n",
    "def animate(k):\n",
    "    im.set_data(U[k])\n",
    "    title.set_text(f\"t = {t_list[k]:.3f}\")\n",
    "    return im, title\n",
    "\n",
    "# --- 5. Construcción de la animación ---\n",
    "interval_ms = 10*max(20, int(1000 * (t_list[1] - t_list[0])))\n",
    "anim = animation.FuncAnimation(\n",
    "    fig,\n",
    "    animate,\n",
    "    init_func=init,\n",
    "    frames=nt,\n",
    "    interval=interval_ms,\n",
    "    blit=True\n",
    ")\n",
    "\n",
    "# plt.tight_layout()\n",
    "\n",
    "# Para exportar como archivo:\n",
    "# anim.save(\"heat2d_evolution.mp4\", writer=\"ffmpeg\", dpi=150)\n",
    "# anim.save(\"heat2d_evolution.gif\", writer='pillow')\n",
    "\n",
    "plt.close(fig)\n",
    "HTML(anim.to_jshtml())"
   ]
  }
 ],
 "metadata": {
  "language_info": {
   "name": "python"
  }
 },
 "nbformat": 4,
 "nbformat_minor": 5
}
